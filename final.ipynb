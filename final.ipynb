{
 "cells": [
  {
   "cell_type": "code",
   "execution_count": 178,
   "metadata": {},
   "outputs": [],
   "source": [
    "import pandas as pd\n",
    "import os \n",
    "import numpy as np \n",
    "import librosa\n",
    "from tqdm import tqdm"
   ]
  },
  {
   "cell_type": "code",
   "execution_count": 179,
   "metadata": {},
   "outputs": [
    {
     "name": "stdout",
     "output_type": "stream",
     "text": [
      " Volume in drive C has no label.\n",
      " Volume Serial Number is 44CF-1D40\n",
      "\n",
      " Directory of c:\\Users\\admin\\OneDrive\\YASH\\Sound_Classifcation\\heart_sound\n",
      "\n",
      "09-10-2023  12:22    <DIR>          .\n",
      "09-10-2023  10:40    <DIR>          ..\n",
      "06-10-2023  16:43           383,694 classification.ipynb\n",
      "06-10-2023  12:21                 0 file_names.ipynb\n",
      "09-10-2023  14:28           187,076 final.ipynb\n",
      "06-10-2023  12:58            65,009 Meta_Data.csv\n",
      "09-10-2023  12:22    <DIR>          saved_models\n",
      "09-10-2023  11:32         2,747,726 test.csv\n",
      "06-10-2023  13:02    <DIR>          train\n",
      "06-10-2023  13:04            10,052 unhealthy_class.csv\n",
      "05-10-2023  13:44    <DIR>          val\n",
      "               6 File(s)      3,393,557 bytes\n",
      "               5 Dir(s)  55,824,916,480 bytes free\n"
     ]
    }
   ],
   "source": [
    "!dir"
   ]
  },
  {
   "cell_type": "code",
   "execution_count": 180,
   "metadata": {},
   "outputs": [
    {
     "data": {
      "text/html": [
       "<div>\n",
       "<style scoped>\n",
       "    .dataframe tbody tr th:only-of-type {\n",
       "        vertical-align: middle;\n",
       "    }\n",
       "\n",
       "    .dataframe tbody tr th {\n",
       "        vertical-align: top;\n",
       "    }\n",
       "\n",
       "    .dataframe thead th {\n",
       "        text-align: right;\n",
       "    }\n",
       "</style>\n",
       "<table border=\"1\" class=\"dataframe\">\n",
       "  <thead>\n",
       "    <tr style=\"text-align: right;\">\n",
       "      <th></th>\n",
       "      <th>Filename</th>\n",
       "      <th>class</th>\n",
       "    </tr>\n",
       "  </thead>\n",
       "  <tbody>\n",
       "    <tr>\n",
       "      <th>3233</th>\n",
       "      <td>f0090.wav</td>\n",
       "      <td>unhealthy</td>\n",
       "    </tr>\n",
       "    <tr>\n",
       "      <th>3234</th>\n",
       "      <td>f0093.wav</td>\n",
       "      <td>unhealthy</td>\n",
       "    </tr>\n",
       "    <tr>\n",
       "      <th>3235</th>\n",
       "      <td>f0096.wav</td>\n",
       "      <td>unhealthy</td>\n",
       "    </tr>\n",
       "    <tr>\n",
       "      <th>3236</th>\n",
       "      <td>f0099.wav</td>\n",
       "      <td>unhealthy</td>\n",
       "    </tr>\n",
       "    <tr>\n",
       "      <th>3237</th>\n",
       "      <td>f0103.wav</td>\n",
       "      <td>unhealthy</td>\n",
       "    </tr>\n",
       "  </tbody>\n",
       "</table>\n",
       "</div>"
      ],
      "text/plain": [
       "       Filename      class\n",
       "3233  f0090.wav  unhealthy\n",
       "3234  f0093.wav  unhealthy\n",
       "3235  f0096.wav  unhealthy\n",
       "3236  f0099.wav  unhealthy\n",
       "3237  f0103.wav  unhealthy"
      ]
     },
     "execution_count": 180,
     "metadata": {},
     "output_type": "execute_result"
    }
   ],
   "source": [
    "path = \"train/Combined/\"\n",
    "metadata = pd.read_csv(\"train/Meta_Data.csv\")\n",
    "metadata.tail()"
   ]
  },
  {
   "cell_type": "code",
   "execution_count": 181,
   "metadata": {},
   "outputs": [],
   "source": [
    "def features_extractor(file):\n",
    "    audio , sample_rate = librosa.load(file)\n",
    "    mfccs_features = librosa.feature.mfcc(y=audio , sr= sample_rate , n_mfcc=40)\n",
    "    mfccs_scaled_features = np.mean(mfccs_features.T , axis=0)\n",
    "\n",
    "    return mfccs_scaled_features"
   ]
  },
  {
   "cell_type": "code",
   "execution_count": 182,
   "metadata": {},
   "outputs": [
    {
     "name": "stdout",
     "output_type": "stream",
     "text": [
      " Volume in drive C has no label.\n",
      " Volume Serial Number is 44CF-1D40\n",
      "\n",
      " Directory of c:\\Users\\admin\\OneDrive\\YASH\\Sound_Classifcation\\heart_sound\n",
      "\n",
      "09-10-2023  12:22    <DIR>          .\n",
      "09-10-2023  10:40    <DIR>          ..\n",
      "06-10-2023  16:43           383,694 classification.ipynb\n",
      "06-10-2023  12:21                 0 file_names.ipynb\n",
      "09-10-2023  14:28           187,076 final.ipynb\n",
      "06-10-2023  12:58            65,009 Meta_Data.csv\n",
      "09-10-2023  12:22    <DIR>          saved_models\n",
      "09-10-2023  11:32         2,747,726 test.csv\n",
      "06-10-2023  13:02    <DIR>          train\n",
      "06-10-2023  13:04            10,052 unhealthy_class.csv\n",
      "05-10-2023  13:44    <DIR>          val\n",
      "               6 File(s)      3,393,557 bytes\n",
      "               5 Dir(s)  55,824,920,576 bytes free\n"
     ]
    }
   ],
   "source": [
    "!dir"
   ]
  },
  {
   "cell_type": "code",
   "execution_count": 183,
   "metadata": {},
   "outputs": [
    {
     "data": {
      "text/plain": [
       "array([-5.6953815e+02,  1.2421279e+02,  8.0652779e+01,  3.1137093e+01,\n",
       "       -3.3652389e+00, -1.2217492e+01,  5.7084346e-01,  2.0703438e+01,\n",
       "        3.3236252e+01,  3.1199471e+01,  1.8156874e+01,  3.9651332e+00,\n",
       "       -2.6544418e+00,  4.4622338e-01,  8.5987177e+00,  1.4636802e+01,\n",
       "        1.4204312e+01,  8.3054342e+00,  1.7394619e+00, -9.1304368e-01,\n",
       "        1.4122460e+00,  5.9429750e+00,  8.5860453e+00,  7.1159449e+00,\n",
       "        2.6347210e+00, -1.5713415e+00, -2.6580801e+00, -2.4827144e-01,\n",
       "        3.5639341e+00,  6.0066700e+00,  5.6954813e+00,  3.4127977e+00,\n",
       "        1.1820983e+00,  5.4876953e-01,  1.4778247e+00,  2.6449530e+00,\n",
       "        2.7255828e+00,  1.5351540e+00,  9.7919136e-02, -3.3093706e-01],\n",
       "      dtype=float32)"
      ]
     },
     "execution_count": 183,
     "metadata": {},
     "output_type": "execute_result"
    }
   ],
   "source": [
    "\n",
    "u = \"train/Combined/a0001.wav\"\n",
    "\n",
    "features_extractor(u)\n"
   ]
  },
  {
   "cell_type": "code",
   "execution_count": 184,
   "metadata": {},
   "outputs": [],
   "source": [
    "def features_extractor(file):\n",
    "    path_1=\"train/Combined/\"\n",
    "    file_name = os.path.join(path_1 , file)\n",
    "    audio , sample_rate = librosa.load(file_name)\n",
    "    mfccs_features = librosa.feature.mfcc(y=audio , sr= sample_rate , n_mfcc=40)\n",
    "    mfccs_scaled_features = np.mean(mfccs_features.T , axis=0)\n",
    "\n",
    "    return mfccs_scaled_features"
   ]
  },
  {
   "cell_type": "code",
   "execution_count": 185,
   "metadata": {},
   "outputs": [],
   "source": [
    "extracted_features = []\n",
    "for x in os.listdir(\"train/Combined/\"):\n",
    "    if x.endswith(\".wav\"):\n",
    "        data = features_extractor(x)\n",
    "        extracted_features.append([data])\n",
    "\n",
    "        "
   ]
  },
  {
   "cell_type": "code",
   "execution_count": 186,
   "metadata": {},
   "outputs": [],
   "source": [
    "extracted_features_df = pd.DataFrame(extracted_features , columns=[\"Features\"])"
   ]
  },
  {
   "cell_type": "code",
   "execution_count": 187,
   "metadata": {},
   "outputs": [],
   "source": [
    "extracted_features_df[\"class\"] = metadata[\"class\"]"
   ]
  },
  {
   "cell_type": "code",
   "execution_count": 188,
   "metadata": {},
   "outputs": [],
   "source": [
    "new_final = extracted_features_df.dropna()"
   ]
  },
  {
   "cell_type": "code",
   "execution_count": 189,
   "metadata": {},
   "outputs": [
    {
     "data": {
      "text/html": [
       "<div>\n",
       "<style scoped>\n",
       "    .dataframe tbody tr th:only-of-type {\n",
       "        vertical-align: middle;\n",
       "    }\n",
       "\n",
       "    .dataframe tbody tr th {\n",
       "        vertical-align: top;\n",
       "    }\n",
       "\n",
       "    .dataframe thead th {\n",
       "        text-align: right;\n",
       "    }\n",
       "</style>\n",
       "<table border=\"1\" class=\"dataframe\">\n",
       "  <thead>\n",
       "    <tr style=\"text-align: right;\">\n",
       "      <th></th>\n",
       "      <th>Features</th>\n",
       "      <th>class</th>\n",
       "    </tr>\n",
       "  </thead>\n",
       "  <tbody>\n",
       "    <tr>\n",
       "      <th>0</th>\n",
       "      <td>[-569.53815, 124.21279, 80.65278, 31.137093, -...</td>\n",
       "      <td>healthy</td>\n",
       "    </tr>\n",
       "    <tr>\n",
       "      <th>1</th>\n",
       "      <td>[-620.901, 143.65808, 98.68219, 46.961876, 9.1...</td>\n",
       "      <td>healthy</td>\n",
       "    </tr>\n",
       "    <tr>\n",
       "      <th>2</th>\n",
       "      <td>[-593.1994, 84.55158, 59.88719, 32.74235, 15.1...</td>\n",
       "      <td>healthy</td>\n",
       "    </tr>\n",
       "    <tr>\n",
       "      <th>3</th>\n",
       "      <td>[-558.272, 92.828896, 70.916534, 44.695515, 23...</td>\n",
       "      <td>healthy</td>\n",
       "    </tr>\n",
       "    <tr>\n",
       "      <th>4</th>\n",
       "      <td>[-486.89496, 68.20269, 56.752182, 42.53562, 30...</td>\n",
       "      <td>healthy</td>\n",
       "    </tr>\n",
       "  </tbody>\n",
       "</table>\n",
       "</div>"
      ],
      "text/plain": [
       "                                            Features    class\n",
       "0  [-569.53815, 124.21279, 80.65278, 31.137093, -...  healthy\n",
       "1  [-620.901, 143.65808, 98.68219, 46.961876, 9.1...  healthy\n",
       "2  [-593.1994, 84.55158, 59.88719, 32.74235, 15.1...  healthy\n",
       "3  [-558.272, 92.828896, 70.916534, 44.695515, 23...  healthy\n",
       "4  [-486.89496, 68.20269, 56.752182, 42.53562, 30...  healthy"
      ]
     },
     "execution_count": 189,
     "metadata": {},
     "output_type": "execute_result"
    }
   ],
   "source": [
    "new_final.head()"
   ]
  },
  {
   "cell_type": "code",
   "execution_count": 190,
   "metadata": {},
   "outputs": [],
   "source": [
    " X = np.array(new_final['Features'].tolist())\n",
    " y = np.array(new_final['class'].tolist())"
   ]
  },
  {
   "cell_type": "code",
   "execution_count": 191,
   "metadata": {},
   "outputs": [
    {
     "data": {
      "text/plain": [
       "(3238, 40)"
      ]
     },
     "execution_count": 191,
     "metadata": {},
     "output_type": "execute_result"
    }
   ],
   "source": [
    "X.shape"
   ]
  },
  {
   "cell_type": "code",
   "execution_count": 192,
   "metadata": {},
   "outputs": [
    {
     "data": {
      "text/plain": [
       "array(['healthy', 'healthy', 'healthy', ..., 'unhealthy', 'unhealthy',\n",
       "       'unhealthy'], dtype='<U9')"
      ]
     },
     "execution_count": 192,
     "metadata": {},
     "output_type": "execute_result"
    }
   ],
   "source": [
    "y"
   ]
  },
  {
   "cell_type": "code",
   "execution_count": 193,
   "metadata": {},
   "outputs": [],
   "source": [
    "from tensorflow.keras.utils import to_categorical\n",
    "from sklearn.preprocessing import LabelEncoder\n",
    "labelencoder=LabelEncoder()\n",
    "y=to_categorical(labelencoder.fit_transform(y))"
   ]
  },
  {
   "cell_type": "code",
   "execution_count": 194,
   "metadata": {},
   "outputs": [],
   "source": [
    "from sklearn.model_selection import train_test_split\n",
    "X_train , X_test , y_train  , y_test = train_test_split(X , y  , test_size=0.2 , random_state=42)"
   ]
  },
  {
   "cell_type": "code",
   "execution_count": 195,
   "metadata": {},
   "outputs": [
    {
     "data": {
      "text/plain": [
       "(2590, 40)"
      ]
     },
     "execution_count": 195,
     "metadata": {},
     "output_type": "execute_result"
    }
   ],
   "source": [
    "X_train.shape"
   ]
  },
  {
   "cell_type": "code",
   "execution_count": 196,
   "metadata": {},
   "outputs": [
    {
     "data": {
      "text/plain": [
       "(648, 2)"
      ]
     },
     "execution_count": 196,
     "metadata": {},
     "output_type": "execute_result"
    }
   ],
   "source": [
    "y_test.shape"
   ]
  },
  {
   "cell_type": "code",
   "execution_count": 197,
   "metadata": {},
   "outputs": [],
   "source": [
    "import tensorflow as tf"
   ]
  },
  {
   "cell_type": "code",
   "execution_count": 198,
   "metadata": {},
   "outputs": [],
   "source": [
    "from tensorflow.keras.models import Sequential\n",
    "from tensorflow.keras.layers import Dense , Dropout , Activation , Flatten\n",
    "from tensorflow.keras.optimizers import Adam\n",
    "from sklearn import metrics"
   ]
  },
  {
   "cell_type": "code",
   "execution_count": 199,
   "metadata": {},
   "outputs": [],
   "source": [
    "num_labels = y.shape[1]"
   ]
  },
  {
   "cell_type": "code",
   "execution_count": 200,
   "metadata": {},
   "outputs": [
    {
     "data": {
      "text/plain": [
       "2"
      ]
     },
     "execution_count": 200,
     "metadata": {},
     "output_type": "execute_result"
    }
   ],
   "source": [
    "y.shape[1]\n",
    "\n"
   ]
  },
  {
   "cell_type": "code",
   "execution_count": 201,
   "metadata": {},
   "outputs": [],
   "source": [
    "model=Sequential()\n",
    "###first layer\n",
    "model.add(Dense(100,input_shape=(40,)))\n",
    "model.add(Activation('relu'))\n",
    "model.add(Dropout(0.5))\n",
    "###second layer\n",
    "model.add(Dense(200))\n",
    "model.add(Activation('relu'))\n",
    "model.add(Dropout(0.5))\n",
    "###third layer\n",
    "model.add(Dense(100))\n",
    "model.add(Activation('relu'))\n",
    "model.add(Dropout(0.5))\n",
    "\n",
    "###final layer\n",
    "model.add(Dense(num_labels))\n",
    "model.add(Activation('softmax'))"
   ]
  },
  {
   "cell_type": "code",
   "execution_count": null,
   "metadata": {},
   "outputs": [],
   "source": []
  },
  {
   "cell_type": "code",
   "execution_count": 202,
   "metadata": {},
   "outputs": [
    {
     "name": "stdout",
     "output_type": "stream",
     "text": [
      "Model: \"sequential_8\"\n",
      "_________________________________________________________________\n",
      " Layer (type)                Output Shape              Param #   \n",
      "=================================================================\n",
      " dense_24 (Dense)            (None, 100)               4100      \n",
      "                                                                 \n",
      " activation_24 (Activation)  (None, 100)               0         \n",
      "                                                                 \n",
      " dropout_16 (Dropout)        (None, 100)               0         \n",
      "                                                                 \n",
      " dense_25 (Dense)            (None, 200)               20200     \n",
      "                                                                 \n",
      " activation_25 (Activation)  (None, 200)               0         \n",
      "                                                                 \n",
      " dropout_17 (Dropout)        (None, 200)               0         \n",
      "                                                                 \n",
      " dense_26 (Dense)            (None, 100)               20100     \n",
      "                                                                 \n",
      " activation_26 (Activation)  (None, 100)               0         \n",
      "                                                                 \n",
      " dropout_18 (Dropout)        (None, 100)               0         \n",
      "                                                                 \n",
      " dense_27 (Dense)            (None, 2)                 202       \n",
      "                                                                 \n",
      " activation_27 (Activation)  (None, 2)                 0         \n",
      "                                                                 \n",
      "=================================================================\n",
      "Total params: 44602 (174.23 KB)\n",
      "Trainable params: 44602 (174.23 KB)\n",
      "Non-trainable params: 0 (0.00 Byte)\n",
      "_________________________________________________________________\n"
     ]
    }
   ],
   "source": [
    "model.summary()"
   ]
  },
  {
   "cell_type": "code",
   "execution_count": 203,
   "metadata": {},
   "outputs": [],
   "source": [
    "model.compile(loss=\"binary_crossentropy\" , metrics=['accuracy'] , optimizer='adam')"
   ]
  },
  {
   "cell_type": "code",
   "execution_count": 207,
   "metadata": {},
   "outputs": [
    {
     "name": "stdout",
     "output_type": "stream",
     "text": [
      "Epoch 1/100\n",
      "81/81 [==============================] - 0s 4ms/step - loss: 0.4905 - accuracy: 0.8019 - val_loss: 0.4451 - val_accuracy: 0.8117\n",
      "Epoch 2/100\n",
      "81/81 [==============================] - 0s 4ms/step - loss: 0.4846 - accuracy: 0.8015 - val_loss: 0.4340 - val_accuracy: 0.8256\n",
      "Epoch 3/100\n",
      "81/81 [==============================] - 0s 4ms/step - loss: 0.4731 - accuracy: 0.8077 - val_loss: 0.4277 - val_accuracy: 0.8287\n",
      "Epoch 4/100\n",
      "81/81 [==============================] - 0s 3ms/step - loss: 0.4746 - accuracy: 0.8081 - val_loss: 0.4325 - val_accuracy: 0.8302\n",
      "Epoch 5/100\n",
      "81/81 [==============================] - 0s 4ms/step - loss: 0.4825 - accuracy: 0.8035 - val_loss: 0.4258 - val_accuracy: 0.8272\n",
      "Epoch 6/100\n",
      "81/81 [==============================] - 0s 4ms/step - loss: 0.4627 - accuracy: 0.8081 - val_loss: 0.4338 - val_accuracy: 0.8210\n",
      "Epoch 7/100\n",
      "81/81 [==============================] - 0s 4ms/step - loss: 0.4593 - accuracy: 0.8135 - val_loss: 0.4281 - val_accuracy: 0.8302\n",
      "Epoch 8/100\n",
      "81/81 [==============================] - 0s 4ms/step - loss: 0.4710 - accuracy: 0.8093 - val_loss: 0.4321 - val_accuracy: 0.8256\n",
      "Epoch 9/100\n",
      "81/81 [==============================] - 0s 4ms/step - loss: 0.4651 - accuracy: 0.8104 - val_loss: 0.4240 - val_accuracy: 0.8272\n",
      "Epoch 10/100\n",
      "81/81 [==============================] - 0s 4ms/step - loss: 0.4618 - accuracy: 0.8139 - val_loss: 0.4279 - val_accuracy: 0.8287\n",
      "Epoch 11/100\n",
      "81/81 [==============================] - 0s 5ms/step - loss: 0.4565 - accuracy: 0.8116 - val_loss: 0.4323 - val_accuracy: 0.8302\n",
      "Epoch 12/100\n",
      "81/81 [==============================] - 0s 4ms/step - loss: 0.4510 - accuracy: 0.8154 - val_loss: 0.4208 - val_accuracy: 0.8256\n",
      "Epoch 13/100\n",
      "81/81 [==============================] - 0s 4ms/step - loss: 0.4548 - accuracy: 0.8174 - val_loss: 0.4200 - val_accuracy: 0.8302\n",
      "Epoch 14/100\n",
      "81/81 [==============================] - 0s 4ms/step - loss: 0.4479 - accuracy: 0.8135 - val_loss: 0.4311 - val_accuracy: 0.8287\n",
      "Epoch 15/100\n",
      "81/81 [==============================] - 0s 4ms/step - loss: 0.4576 - accuracy: 0.8131 - val_loss: 0.4266 - val_accuracy: 0.8302\n",
      "Epoch 16/100\n",
      "81/81 [==============================] - 0s 4ms/step - loss: 0.4559 - accuracy: 0.8108 - val_loss: 0.4285 - val_accuracy: 0.8302\n",
      "Epoch 17/100\n",
      "81/81 [==============================] - 0s 4ms/step - loss: 0.4487 - accuracy: 0.8147 - val_loss: 0.4087 - val_accuracy: 0.8287\n",
      "Epoch 18/100\n",
      "81/81 [==============================] - 0s 5ms/step - loss: 0.4498 - accuracy: 0.8170 - val_loss: 0.4108 - val_accuracy: 0.8287\n",
      "Epoch 19/100\n",
      "81/81 [==============================] - 0s 3ms/step - loss: 0.4447 - accuracy: 0.8208 - val_loss: 0.4241 - val_accuracy: 0.8302\n",
      "Epoch 20/100\n",
      "81/81 [==============================] - 0s 3ms/step - loss: 0.4455 - accuracy: 0.8181 - val_loss: 0.4317 - val_accuracy: 0.8302\n",
      "Epoch 21/100\n",
      "81/81 [==============================] - 0s 4ms/step - loss: 0.4449 - accuracy: 0.8220 - val_loss: 0.4359 - val_accuracy: 0.8302\n",
      "Epoch 22/100\n",
      "81/81 [==============================] - 0s 4ms/step - loss: 0.4443 - accuracy: 0.8174 - val_loss: 0.4144 - val_accuracy: 0.8256\n",
      "Epoch 23/100\n",
      "81/81 [==============================] - 0s 4ms/step - loss: 0.4531 - accuracy: 0.8158 - val_loss: 0.4416 - val_accuracy: 0.8194\n",
      "Epoch 24/100\n",
      "81/81 [==============================] - 0s 4ms/step - loss: 0.4481 - accuracy: 0.8166 - val_loss: 0.4155 - val_accuracy: 0.8302\n",
      "Epoch 25/100\n",
      "81/81 [==============================] - 0s 4ms/step - loss: 0.4396 - accuracy: 0.8232 - val_loss: 0.4194 - val_accuracy: 0.8302\n",
      "Epoch 26/100\n",
      "81/81 [==============================] - 0s 4ms/step - loss: 0.4474 - accuracy: 0.8201 - val_loss: 0.4177 - val_accuracy: 0.8302\n",
      "Epoch 27/100\n",
      "81/81 [==============================] - 0s 4ms/step - loss: 0.4440 - accuracy: 0.8201 - val_loss: 0.4084 - val_accuracy: 0.8302\n",
      "Epoch 28/100\n",
      "81/81 [==============================] - 0s 4ms/step - loss: 0.4456 - accuracy: 0.8193 - val_loss: 0.4040 - val_accuracy: 0.8302\n",
      "Epoch 29/100\n",
      "81/81 [==============================] - 0s 3ms/step - loss: 0.4373 - accuracy: 0.8174 - val_loss: 0.4168 - val_accuracy: 0.8287\n",
      "Epoch 30/100\n",
      "81/81 [==============================] - 0s 4ms/step - loss: 0.4350 - accuracy: 0.8205 - val_loss: 0.4040 - val_accuracy: 0.8302\n",
      "Epoch 31/100\n",
      "81/81 [==============================] - 0s 4ms/step - loss: 0.4448 - accuracy: 0.8189 - val_loss: 0.4250 - val_accuracy: 0.8287\n",
      "Epoch 32/100\n",
      "81/81 [==============================] - 0s 3ms/step - loss: 0.4455 - accuracy: 0.8193 - val_loss: 0.4051 - val_accuracy: 0.8287\n",
      "Epoch 33/100\n",
      "81/81 [==============================] - 0s 4ms/step - loss: 0.4497 - accuracy: 0.8197 - val_loss: 0.4250 - val_accuracy: 0.8287\n",
      "Epoch 34/100\n",
      "81/81 [==============================] - 0s 3ms/step - loss: 0.4353 - accuracy: 0.8201 - val_loss: 0.3990 - val_accuracy: 0.8302\n",
      "Epoch 35/100\n",
      "81/81 [==============================] - 0s 4ms/step - loss: 0.4514 - accuracy: 0.8181 - val_loss: 0.4130 - val_accuracy: 0.8256\n",
      "Epoch 36/100\n",
      "81/81 [==============================] - 0s 4ms/step - loss: 0.4411 - accuracy: 0.8185 - val_loss: 0.3981 - val_accuracy: 0.8302\n",
      "Epoch 37/100\n",
      "81/81 [==============================] - 0s 5ms/step - loss: 0.4379 - accuracy: 0.8201 - val_loss: 0.4033 - val_accuracy: 0.8302\n",
      "Epoch 38/100\n",
      "81/81 [==============================] - 0s 4ms/step - loss: 0.4377 - accuracy: 0.8236 - val_loss: 0.4069 - val_accuracy: 0.8302\n",
      "Epoch 39/100\n",
      "81/81 [==============================] - 0s 4ms/step - loss: 0.4366 - accuracy: 0.8205 - val_loss: 0.4102 - val_accuracy: 0.8287\n",
      "Epoch 40/100\n",
      "81/81 [==============================] - 0s 4ms/step - loss: 0.4341 - accuracy: 0.8208 - val_loss: 0.4126 - val_accuracy: 0.8302\n",
      "Epoch 41/100\n",
      "81/81 [==============================] - 0s 4ms/step - loss: 0.4364 - accuracy: 0.8220 - val_loss: 0.4196 - val_accuracy: 0.8241\n",
      "Epoch 42/100\n",
      "81/81 [==============================] - 0s 4ms/step - loss: 0.4443 - accuracy: 0.8208 - val_loss: 0.4257 - val_accuracy: 0.8225\n",
      "Epoch 43/100\n",
      "81/81 [==============================] - 0s 4ms/step - loss: 0.4342 - accuracy: 0.8216 - val_loss: 0.4096 - val_accuracy: 0.8272\n",
      "Epoch 44/100\n",
      "81/81 [==============================] - 0s 4ms/step - loss: 0.4315 - accuracy: 0.8220 - val_loss: 0.3985 - val_accuracy: 0.8302\n",
      "Epoch 45/100\n",
      "81/81 [==============================] - 0s 4ms/step - loss: 0.4322 - accuracy: 0.8228 - val_loss: 0.4101 - val_accuracy: 0.8287\n",
      "Epoch 46/100\n",
      "81/81 [==============================] - 0s 4ms/step - loss: 0.4333 - accuracy: 0.8224 - val_loss: 0.4010 - val_accuracy: 0.8287\n",
      "Epoch 47/100\n",
      "81/81 [==============================] - 0s 4ms/step - loss: 0.4372 - accuracy: 0.8216 - val_loss: 0.4257 - val_accuracy: 0.8302\n",
      "Epoch 48/100\n",
      "81/81 [==============================] - 0s 4ms/step - loss: 0.4412 - accuracy: 0.8224 - val_loss: 0.4168 - val_accuracy: 0.8302\n",
      "Epoch 49/100\n",
      "81/81 [==============================] - 0s 4ms/step - loss: 0.4345 - accuracy: 0.8205 - val_loss: 0.4030 - val_accuracy: 0.8287\n",
      "Epoch 50/100\n",
      "81/81 [==============================] - 0s 3ms/step - loss: 0.4416 - accuracy: 0.8197 - val_loss: 0.4088 - val_accuracy: 0.8287\n",
      "Epoch 51/100\n",
      "81/81 [==============================] - 0s 4ms/step - loss: 0.4338 - accuracy: 0.8212 - val_loss: 0.4189 - val_accuracy: 0.8302\n",
      "Epoch 52/100\n",
      "81/81 [==============================] - 0s 4ms/step - loss: 0.4246 - accuracy: 0.8239 - val_loss: 0.4029 - val_accuracy: 0.8302\n",
      "Epoch 53/100\n",
      "81/81 [==============================] - 0s 4ms/step - loss: 0.4237 - accuracy: 0.8255 - val_loss: 0.4085 - val_accuracy: 0.8302\n",
      "Epoch 54/100\n",
      "81/81 [==============================] - 0s 4ms/step - loss: 0.4305 - accuracy: 0.8228 - val_loss: 0.4000 - val_accuracy: 0.8287\n",
      "Epoch 55/100\n",
      "81/81 [==============================] - 0s 4ms/step - loss: 0.4334 - accuracy: 0.8216 - val_loss: 0.4025 - val_accuracy: 0.8302\n",
      "Epoch 56/100\n",
      "81/81 [==============================] - 0s 4ms/step - loss: 0.4316 - accuracy: 0.8193 - val_loss: 0.4043 - val_accuracy: 0.8302\n",
      "Epoch 57/100\n",
      "81/81 [==============================] - 0s 3ms/step - loss: 0.4352 - accuracy: 0.8197 - val_loss: 0.4004 - val_accuracy: 0.8302\n",
      "Epoch 58/100\n",
      "81/81 [==============================] - 0s 3ms/step - loss: 0.4308 - accuracy: 0.8224 - val_loss: 0.4045 - val_accuracy: 0.8302\n",
      "Epoch 59/100\n",
      "81/81 [==============================] - 0s 4ms/step - loss: 0.4333 - accuracy: 0.8189 - val_loss: 0.4066 - val_accuracy: 0.8302\n",
      "Epoch 60/100\n",
      "81/81 [==============================] - 0s 4ms/step - loss: 0.4294 - accuracy: 0.8239 - val_loss: 0.4072 - val_accuracy: 0.8302\n",
      "Epoch 61/100\n",
      "81/81 [==============================] - 0s 4ms/step - loss: 0.4320 - accuracy: 0.8220 - val_loss: 0.4016 - val_accuracy: 0.8302\n",
      "Epoch 62/100\n",
      "81/81 [==============================] - 0s 4ms/step - loss: 0.4271 - accuracy: 0.8239 - val_loss: 0.3950 - val_accuracy: 0.8302\n",
      "Epoch 63/100\n",
      "81/81 [==============================] - 0s 4ms/step - loss: 0.4294 - accuracy: 0.8189 - val_loss: 0.3952 - val_accuracy: 0.8287\n",
      "Epoch 64/100\n",
      "81/81 [==============================] - 0s 4ms/step - loss: 0.4270 - accuracy: 0.8228 - val_loss: 0.3915 - val_accuracy: 0.8302\n",
      "Epoch 65/100\n",
      "81/81 [==============================] - 0s 4ms/step - loss: 0.4279 - accuracy: 0.8212 - val_loss: 0.3959 - val_accuracy: 0.8302\n",
      "Epoch 66/100\n",
      "81/81 [==============================] - 0s 4ms/step - loss: 0.4256 - accuracy: 0.8239 - val_loss: 0.3913 - val_accuracy: 0.8302\n",
      "Epoch 67/100\n",
      "81/81 [==============================] - 0s 4ms/step - loss: 0.4259 - accuracy: 0.8239 - val_loss: 0.4014 - val_accuracy: 0.8302\n",
      "Epoch 68/100\n",
      "81/81 [==============================] - 0s 3ms/step - loss: 0.4337 - accuracy: 0.8220 - val_loss: 0.4006 - val_accuracy: 0.8302\n",
      "Epoch 69/100\n",
      "81/81 [==============================] - 0s 4ms/step - loss: 0.4319 - accuracy: 0.8220 - val_loss: 0.4060 - val_accuracy: 0.8302\n",
      "Epoch 70/100\n",
      "81/81 [==============================] - 0s 4ms/step - loss: 0.4318 - accuracy: 0.8205 - val_loss: 0.4068 - val_accuracy: 0.8302\n",
      "Epoch 71/100\n",
      "81/81 [==============================] - 0s 4ms/step - loss: 0.4350 - accuracy: 0.8220 - val_loss: 0.4068 - val_accuracy: 0.8302\n",
      "Epoch 72/100\n",
      "81/81 [==============================] - 0s 4ms/step - loss: 0.4281 - accuracy: 0.8216 - val_loss: 0.4085 - val_accuracy: 0.8302\n",
      "Epoch 73/100\n",
      "81/81 [==============================] - 0s 4ms/step - loss: 0.4238 - accuracy: 0.8228 - val_loss: 0.4055 - val_accuracy: 0.8302\n",
      "Epoch 74/100\n",
      "81/81 [==============================] - 0s 4ms/step - loss: 0.4235 - accuracy: 0.8259 - val_loss: 0.4106 - val_accuracy: 0.8287\n",
      "Epoch 75/100\n",
      "81/81 [==============================] - 0s 4ms/step - loss: 0.4234 - accuracy: 0.8232 - val_loss: 0.3996 - val_accuracy: 0.8302\n",
      "Epoch 76/100\n",
      "81/81 [==============================] - 0s 3ms/step - loss: 0.4291 - accuracy: 0.8216 - val_loss: 0.4069 - val_accuracy: 0.8302\n",
      "Epoch 77/100\n",
      "81/81 [==============================] - 0s 3ms/step - loss: 0.4323 - accuracy: 0.8220 - val_loss: 0.4137 - val_accuracy: 0.8256\n",
      "Epoch 78/100\n",
      "81/81 [==============================] - 0s 4ms/step - loss: 0.4222 - accuracy: 0.8247 - val_loss: 0.4098 - val_accuracy: 0.8302\n",
      "Epoch 79/100\n",
      "81/81 [==============================] - 0s 4ms/step - loss: 0.4246 - accuracy: 0.8208 - val_loss: 0.4079 - val_accuracy: 0.8287\n",
      "Epoch 80/100\n",
      "81/81 [==============================] - 0s 3ms/step - loss: 0.4287 - accuracy: 0.8220 - val_loss: 0.4094 - val_accuracy: 0.8287\n",
      "Epoch 81/100\n",
      "81/81 [==============================] - 0s 4ms/step - loss: 0.4183 - accuracy: 0.8243 - val_loss: 0.3918 - val_accuracy: 0.8302\n",
      "Epoch 82/100\n",
      "81/81 [==============================] - 0s 4ms/step - loss: 0.4183 - accuracy: 0.8236 - val_loss: 0.3920 - val_accuracy: 0.8302\n",
      "Epoch 83/100\n",
      "81/81 [==============================] - 0s 4ms/step - loss: 0.4226 - accuracy: 0.8236 - val_loss: 0.4043 - val_accuracy: 0.8302\n",
      "Epoch 84/100\n",
      "81/81 [==============================] - 0s 3ms/step - loss: 0.4250 - accuracy: 0.8243 - val_loss: 0.3997 - val_accuracy: 0.8287\n",
      "Epoch 85/100\n",
      "81/81 [==============================] - 0s 4ms/step - loss: 0.4309 - accuracy: 0.8212 - val_loss: 0.4048 - val_accuracy: 0.8302\n",
      "Epoch 86/100\n",
      "81/81 [==============================] - 0s 3ms/step - loss: 0.4301 - accuracy: 0.8224 - val_loss: 0.4052 - val_accuracy: 0.8302\n",
      "Epoch 87/100\n",
      "81/81 [==============================] - 0s 3ms/step - loss: 0.4201 - accuracy: 0.8239 - val_loss: 0.4032 - val_accuracy: 0.8287\n",
      "Epoch 88/100\n",
      "81/81 [==============================] - 0s 3ms/step - loss: 0.4204 - accuracy: 0.8239 - val_loss: 0.4004 - val_accuracy: 0.8302\n",
      "Epoch 89/100\n",
      "81/81 [==============================] - 0s 4ms/step - loss: 0.4297 - accuracy: 0.8236 - val_loss: 0.4129 - val_accuracy: 0.8287\n",
      "Epoch 90/100\n",
      "81/81 [==============================] - 0s 5ms/step - loss: 0.4404 - accuracy: 0.8201 - val_loss: 0.4151 - val_accuracy: 0.8241\n",
      "Epoch 91/100\n",
      "81/81 [==============================] - 0s 4ms/step - loss: 0.4185 - accuracy: 0.8239 - val_loss: 0.4054 - val_accuracy: 0.8302\n",
      "Epoch 92/100\n",
      "81/81 [==============================] - 0s 4ms/step - loss: 0.4247 - accuracy: 0.8228 - val_loss: 0.3949 - val_accuracy: 0.8302\n",
      "Epoch 93/100\n",
      "81/81 [==============================] - 0s 4ms/step - loss: 0.4277 - accuracy: 0.8220 - val_loss: 0.3955 - val_accuracy: 0.8302\n",
      "Epoch 94/100\n",
      "81/81 [==============================] - 0s 4ms/step - loss: 0.4394 - accuracy: 0.8205 - val_loss: 0.3984 - val_accuracy: 0.8287\n",
      "Epoch 95/100\n",
      "81/81 [==============================] - 0s 3ms/step - loss: 0.4254 - accuracy: 0.8216 - val_loss: 0.4109 - val_accuracy: 0.8302\n",
      "Epoch 96/100\n",
      "81/81 [==============================] - 0s 4ms/step - loss: 0.4264 - accuracy: 0.8205 - val_loss: 0.3931 - val_accuracy: 0.8302\n",
      "Epoch 97/100\n",
      "81/81 [==============================] - 0s 3ms/step - loss: 0.4148 - accuracy: 0.8255 - val_loss: 0.4028 - val_accuracy: 0.8302\n",
      "Epoch 98/100\n",
      "81/81 [==============================] - 0s 4ms/step - loss: 0.4216 - accuracy: 0.8216 - val_loss: 0.4014 - val_accuracy: 0.8302\n",
      "Epoch 99/100\n",
      "81/81 [==============================] - 0s 4ms/step - loss: 0.4228 - accuracy: 0.8224 - val_loss: 0.4004 - val_accuracy: 0.8302\n",
      "Epoch 100/100\n",
      "81/81 [==============================] - 0s 3ms/step - loss: 0.4312 - accuracy: 0.8220 - val_loss: 0.3959 - val_accuracy: 0.8302\n",
      "Training completed in time:  0:00:30.531564\n"
     ]
    }
   ],
   "source": [
    "## Trianing my model\n",
    "from tensorflow.keras.callbacks import ModelCheckpoint\n",
    "from datetime import datetime \n",
    "\n",
    "num_epochs = 100\n",
    "num_batch_size = 32\n",
    "\n",
    "# checkpointer = ModelCheckpoint(filepath='saved_models/audio_classification.hdf5', \n",
    "#                                verbose=1, save_best_only=True)\n",
    "start = datetime.now()\n",
    "\n",
    "model.fit(X_train, y_train, batch_size=num_batch_size, epochs=num_epochs, validation_data=(X_test, y_test), verbose=1)\n",
    "\n",
    "\n",
    "duration = datetime.now() - start\n",
    "print(\"Training completed in time: \", duration)"
   ]
  },
  {
   "cell_type": "code",
   "execution_count": null,
   "metadata": {},
   "outputs": [],
   "source": [
    "# model.fit(X_train , y_train , batch_size=32 , epochs=100 , validation_data=(X_test , y_test))"
   ]
  },
  {
   "cell_type": "code",
   "execution_count": 208,
   "metadata": {},
   "outputs": [
    {
     "name": "stdout",
     "output_type": "stream",
     "text": [
      "0.8302469253540039\n"
     ]
    }
   ],
   "source": [
    "test_accuracy=model.evaluate(X_test,y_test,verbose=0)\n",
    "print(test_accuracy[1])"
   ]
  },
  {
   "cell_type": "code",
   "execution_count": 209,
   "metadata": {},
   "outputs": [
    {
     "name": "stdout",
     "output_type": "stream",
     "text": [
      "21/21 [==============================] - 0s 4ms/step\n"
     ]
    },
    {
     "data": {
      "text/plain": [
       "array([[1.00000000e+00, 1.46737076e-08],\n",
       "       [9.15034294e-01, 8.49657133e-02],\n",
       "       [8.90664697e-01, 1.09335326e-01],\n",
       "       ...,\n",
       "       [8.90664697e-01, 1.09335326e-01],\n",
       "       [9.11643386e-01, 8.83565545e-02],\n",
       "       [8.90664697e-01, 1.09335326e-01]], dtype=float32)"
      ]
     },
     "execution_count": 209,
     "metadata": {},
     "output_type": "execute_result"
    }
   ],
   "source": [
    "model.predict(X_test)"
   ]
  },
  {
   "cell_type": "code",
   "execution_count": 210,
   "metadata": {},
   "outputs": [
    {
     "name": "stdout",
     "output_type": "stream",
     "text": [
      "21/21 [==============================] - 0s 3ms/step\n"
     ]
    }
   ],
   "source": [
    "predict_x=model.predict(X_test) \n",
    "classes_x=np.argmax(predict_x,axis=1)"
   ]
  },
  {
   "cell_type": "code",
   "execution_count": 211,
   "metadata": {},
   "outputs": [],
   "source": [
    "filename=\"train/Combined/a0002.wav\"\n",
    "audio, sample_rate = librosa.load(filename) \n",
    "mfccs_features = librosa.feature.mfcc(y=audio, sr=sample_rate, n_mfcc=40)\n",
    "mfccs_scaled_features = np.mean(mfccs_features.T,axis=0)"
   ]
  },
  {
   "cell_type": "code",
   "execution_count": 220,
   "metadata": {},
   "outputs": [
    {
     "name": "stdout",
     "output_type": "stream",
     "text": [
      "1/1 [==============================] - 0s 23ms/step\n",
      "[0]\n"
     ]
    },
    {
     "data": {
      "text/plain": [
       "array(['healthy'], dtype='<U9')"
      ]
     },
     "execution_count": 220,
     "metadata": {},
     "output_type": "execute_result"
    }
   ],
   "source": [
    "filename=\"train/healthy/a0085.wav\"\n",
    "audio, sample_rate = librosa.load(filename) \n",
    "mfccs_features = librosa.feature.mfcc(y=audio, sr=sample_rate, n_mfcc=40)\n",
    "mfccs_scaled_features = np.mean(mfccs_features.T,axis=0)\n",
    "\n",
    "# print(mfccs_scaled_features)\n",
    "mfccs_scaled_features=mfccs_scaled_features.reshape(1,-1)\n",
    "# print(mfccs_scaled_features)\n",
    "# print(mfccs_scaled_features.shape)\n",
    "predict_x=model.predict(mfccs_scaled_features) \n",
    "classes_x=np.argmax(predict_x,axis=1)\n",
    "# predicted_label=model.predict_classes(mfccs_scaled_features)\n",
    "print(classes_x)\n",
    "prediction_class = labelencoder.inverse_transform(classes_x) \n",
    "prediction_class"
   ]
  },
  {
   "cell_type": "code",
   "execution_count": 221,
   "metadata": {},
   "outputs": [
    {
     "data": {
      "text/plain": [
       "array([[0.8969395 , 0.10306053]], dtype=float32)"
      ]
     },
     "execution_count": 221,
     "metadata": {},
     "output_type": "execute_result"
    }
   ],
   "source": [
    "predict_x"
   ]
  },
  {
   "cell_type": "code",
   "execution_count": null,
   "metadata": {},
   "outputs": [],
   "source": []
  }
 ],
 "metadata": {
  "kernelspec": {
   "display_name": "Python 3",
   "language": "python",
   "name": "python3"
  },
  "language_info": {
   "codemirror_mode": {
    "name": "ipython",
    "version": 3
   },
   "file_extension": ".py",
   "mimetype": "text/x-python",
   "name": "python",
   "nbconvert_exporter": "python",
   "pygments_lexer": "ipython3",
   "version": "3.11.5"
  }
 },
 "nbformat": 4,
 "nbformat_minor": 2
}
